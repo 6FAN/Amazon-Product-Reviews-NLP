{
  "cells": [
    {
      "cell_type": "markdown",
      "metadata": {
        "id": "view-in-github",
        "colab_type": "text"
      },
      "source": [
        "<a href=\"https://colab.research.google.com/github/6FAN/Amazon-Product-Reviews-NLP/blob/main/Amazon_Product_Reviews.ipynb\" target=\"_parent\"><img src=\"https://colab.research.google.com/assets/colab-badge.svg\" alt=\"Open In Colab\"/></a>"
      ]
    },
    {
      "cell_type": "markdown",
      "id": "1d2c8407-15d0-4b42-987b-59484902201a",
      "metadata": {
        "id": "1d2c8407-15d0-4b42-987b-59484902201a"
      },
      "source": [
        "# Index"
      ]
    },
    {
      "cell_type": "markdown",
      "id": "0c5b79c9-404d-4b90-ac52-650125b13df2",
      "metadata": {
        "id": "0c5b79c9-404d-4b90-ac52-650125b13df2"
      },
      "source": [
        "* 01: Importing Some Necessary Libraries\n",
        "* 02: Preprocessing\n",
        "* 03: Apply Function\n",
        "* 04: Punctuations and Stopwords\n",
        "* 05: Vectorization\n",
        "* 06: Working on Naive Bayes Theoram\n",
        "* 07: Access The model Performance Using Confusion Matrix\n",
        "* 08: Confusion Matrix\n",
        "* 09: Classification Report"
      ]
    },
    {
      "cell_type": "markdown",
      "id": "d06ead43-fbba-470c-b9f4-537e230925e5",
      "metadata": {
        "id": "d06ead43-fbba-470c-b9f4-537e230925e5"
      },
      "source": [
        "# 01: Importing Some Necessary Libraries"
      ]
    },
    {
      "cell_type": "code",
      "execution_count": null,
      "id": "bd250b17-5663-4aab-b16c-e26682e61fd9",
      "metadata": {
        "id": "bd250b17-5663-4aab-b16c-e26682e61fd9"
      },
      "outputs": [],
      "source": [
        "import pandas as pd\n",
        "import numpy as np\n",
        "import matplotlib.pyplot as plt\n",
        "import seaborn as sns\n",
        "sns.set_style(\"darkgrid\")\n",
        "sns.set_theme(\"paper\")\n",
        "\n",
        "import nltk"
      ]
    },
    {
      "cell_type": "markdown",
      "id": "3b2a7d5d-0c8f-4754-b81d-0819dd3326c5",
      "metadata": {
        "id": "3b2a7d5d-0c8f-4754-b81d-0819dd3326c5"
      },
      "source": [
        "# 02: Preprocessing"
      ]
    },
    {
      "cell_type": "code",
      "execution_count": null,
      "id": "ee5383a3-a7a7-4a5a-befa-e9b0c2f44853",
      "metadata": {
        "id": "ee5383a3-a7a7-4a5a-befa-e9b0c2f44853",
        "outputId": "a73fefa1-2d1d-4997-abb8-9b37c24154a8"
      },
      "outputs": [
        {
          "data": {
            "text/html": [
              "<div>\n",
              "<style scoped>\n",
              "    .dataframe tbody tr th:only-of-type {\n",
              "        vertical-align: middle;\n",
              "    }\n",
              "\n",
              "    .dataframe tbody tr th {\n",
              "        vertical-align: top;\n",
              "    }\n",
              "\n",
              "    .dataframe thead th {\n",
              "        text-align: right;\n",
              "    }\n",
              "</style>\n",
              "<table border=\"1\" class=\"dataframe\">\n",
              "  <thead>\n",
              "    <tr style=\"text-align: right;\">\n",
              "      <th></th>\n",
              "      <th>Text</th>\n",
              "      <th>label</th>\n",
              "    </tr>\n",
              "  </thead>\n",
              "  <tbody>\n",
              "    <tr>\n",
              "      <th>0</th>\n",
              "      <td>This is  the best apps acording to a bunch of ...</td>\n",
              "      <td>1</td>\n",
              "    </tr>\n",
              "    <tr>\n",
              "      <th>1</th>\n",
              "      <td>This is a pretty good version of the game for ...</td>\n",
              "      <td>1</td>\n",
              "    </tr>\n",
              "    <tr>\n",
              "      <th>2</th>\n",
              "      <td>this is a really . there are a bunch of levels...</td>\n",
              "      <td>1</td>\n",
              "    </tr>\n",
              "    <tr>\n",
              "      <th>3</th>\n",
              "      <td>This is a silly game and can be frustrating, b...</td>\n",
              "      <td>1</td>\n",
              "    </tr>\n",
              "    <tr>\n",
              "      <th>4</th>\n",
              "      <td>This is a terrific game on any pad. Hrs of fun...</td>\n",
              "      <td>1</td>\n",
              "    </tr>\n",
              "    <tr>\n",
              "      <th>...</th>\n",
              "      <td>...</td>\n",
              "      <td>...</td>\n",
              "    </tr>\n",
              "    <tr>\n",
              "      <th>19991</th>\n",
              "      <td>this app is fricken stupid.it froze on the kin...</td>\n",
              "      <td>0</td>\n",
              "    </tr>\n",
              "    <tr>\n",
              "      <th>19992</th>\n",
              "      <td>Please add me!!!!! I need neighbors! Ginger101...</td>\n",
              "      <td>1</td>\n",
              "    </tr>\n",
              "    <tr>\n",
              "      <th>19993</th>\n",
              "      <td>love it!  this game. is awesome. wish it had m...</td>\n",
              "      <td>1</td>\n",
              "    </tr>\n",
              "    <tr>\n",
              "      <th>19994</th>\n",
              "      <td>I love love love this app on my side of fashio...</td>\n",
              "      <td>1</td>\n",
              "    </tr>\n",
              "    <tr>\n",
              "      <th>19995</th>\n",
              "      <td>This game is a rip off. Here is a list of thin...</td>\n",
              "      <td>0</td>\n",
              "    </tr>\n",
              "  </tbody>\n",
              "</table>\n",
              "<p>19996 rows × 2 columns</p>\n",
              "</div>"
            ],
            "text/plain": [
              "                                                    Text  label\n",
              "0      This is  the best apps acording to a bunch of ...      1\n",
              "1      This is a pretty good version of the game for ...      1\n",
              "2      this is a really . there are a bunch of levels...      1\n",
              "3      This is a silly game and can be frustrating, b...      1\n",
              "4      This is a terrific game on any pad. Hrs of fun...      1\n",
              "...                                                  ...    ...\n",
              "19991  this app is fricken stupid.it froze on the kin...      0\n",
              "19992  Please add me!!!!! I need neighbors! Ginger101...      1\n",
              "19993  love it!  this game. is awesome. wish it had m...      1\n",
              "19994  I love love love this app on my side of fashio...      1\n",
              "19995  This game is a rip off. Here is a list of thin...      0\n",
              "\n",
              "[19996 rows x 2 columns]"
            ]
          },
          "execution_count": 2,
          "metadata": {},
          "output_type": "execute_result"
        }
      ],
      "source": [
        "#Load dataset\n",
        "df = pd.read_csv(\"DataSet/amazon.csv\")\n",
        "df"
      ]
    },
    {
      "cell_type": "markdown",
      "id": "5ee93ee6-2b23-4b31-a03a-e4380473407f",
      "metadata": {
        "id": "5ee93ee6-2b23-4b31-a03a-e4380473407f"
      },
      "source": [
        "**Label**\n",
        "* 0 is a Negative Reviews\n",
        "* 1 is a Positive Reviews"
      ]
    },
    {
      "cell_type": "code",
      "execution_count": null,
      "id": "922e93b2-29c0-486f-8c5f-8bf019d62358",
      "metadata": {
        "id": "922e93b2-29c0-486f-8c5f-8bf019d62358",
        "outputId": "e51aa684-ee1a-41e2-fc66-90bfb4ad19f8"
      },
      "outputs": [
        {
          "name": "stdout",
          "output_type": "stream",
          "text": [
            "<class 'pandas.core.frame.DataFrame'>\n",
            "RangeIndex: 19996 entries, 0 to 19995\n",
            "Data columns (total 2 columns):\n",
            " #   Column  Non-Null Count  Dtype \n",
            "---  ------  --------------  ----- \n",
            " 0   Text    19996 non-null  object\n",
            " 1   label   19996 non-null  int64 \n",
            "dtypes: int64(1), object(1)\n",
            "memory usage: 312.6+ KB\n"
          ]
        }
      ],
      "source": [
        "df.info()"
      ]
    },
    {
      "cell_type": "code",
      "execution_count": null,
      "id": "6d22a935-586b-469a-b033-275eb8e63e7f",
      "metadata": {
        "id": "6d22a935-586b-469a-b033-275eb8e63e7f",
        "outputId": "0d57bab8-a2e4-4220-b6d3-58fca77cb569"
      },
      "outputs": [
        {
          "data": {
            "text/plain": [
              "(19996, 2)"
            ]
          },
          "execution_count": 4,
          "metadata": {},
          "output_type": "execute_result"
        }
      ],
      "source": [
        "df.shape"
      ]
    },
    {
      "cell_type": "code",
      "execution_count": null,
      "id": "23b1f0b8-87a7-4b2a-ba4c-485b5ca256f8",
      "metadata": {
        "id": "23b1f0b8-87a7-4b2a-ba4c-485b5ca256f8",
        "outputId": "0f365f23-66a5-4dd8-c6d8-e5af2a5c2cdb"
      },
      "outputs": [
        {
          "data": {
            "text/plain": [
              "Index(['Text', 'label'], dtype='object')"
            ]
          },
          "execution_count": 5,
          "metadata": {},
          "output_type": "execute_result"
        }
      ],
      "source": [
        "df.columns"
      ]
    },
    {
      "cell_type": "code",
      "execution_count": null,
      "id": "30d62b54-5b27-4825-83c6-48b18ec3470b",
      "metadata": {
        "scrolled": true,
        "id": "30d62b54-5b27-4825-83c6-48b18ec3470b",
        "outputId": "b9bca4d7-f6ef-4906-a7b6-efe88842cf59"
      },
      "outputs": [
        {
          "data": {
            "text/plain": [
              "Text     0\n",
              "label    0\n",
              "dtype: int64"
            ]
          },
          "execution_count": 6,
          "metadata": {},
          "output_type": "execute_result"
        }
      ],
      "source": [
        "df.isnull().sum()"
      ]
    },
    {
      "cell_type": "code",
      "execution_count": null,
      "id": "9ecc484d-f49c-4043-afec-c781e9f6ea24",
      "metadata": {
        "id": "9ecc484d-f49c-4043-afec-c781e9f6ea24",
        "outputId": "4d617218-4375-4de5-f9a7-a1103f220f65"
      },
      "outputs": [
        {
          "data": {
            "text/html": [
              "<div>\n",
              "<style scoped>\n",
              "    .dataframe tbody tr th:only-of-type {\n",
              "        vertical-align: middle;\n",
              "    }\n",
              "\n",
              "    .dataframe tbody tr th {\n",
              "        vertical-align: top;\n",
              "    }\n",
              "\n",
              "    .dataframe thead th {\n",
              "        text-align: right;\n",
              "    }\n",
              "</style>\n",
              "<table border=\"1\" class=\"dataframe\">\n",
              "  <thead>\n",
              "    <tr style=\"text-align: right;\">\n",
              "      <th></th>\n",
              "      <th>label</th>\n",
              "    </tr>\n",
              "  </thead>\n",
              "  <tbody>\n",
              "    <tr>\n",
              "      <th>count</th>\n",
              "      <td>19996.000000</td>\n",
              "    </tr>\n",
              "    <tr>\n",
              "      <th>mean</th>\n",
              "      <td>0.761652</td>\n",
              "    </tr>\n",
              "    <tr>\n",
              "      <th>std</th>\n",
              "      <td>0.426083</td>\n",
              "    </tr>\n",
              "    <tr>\n",
              "      <th>min</th>\n",
              "      <td>0.000000</td>\n",
              "    </tr>\n",
              "    <tr>\n",
              "      <th>25%</th>\n",
              "      <td>1.000000</td>\n",
              "    </tr>\n",
              "    <tr>\n",
              "      <th>50%</th>\n",
              "      <td>1.000000</td>\n",
              "    </tr>\n",
              "    <tr>\n",
              "      <th>75%</th>\n",
              "      <td>1.000000</td>\n",
              "    </tr>\n",
              "    <tr>\n",
              "      <th>max</th>\n",
              "      <td>1.000000</td>\n",
              "    </tr>\n",
              "  </tbody>\n",
              "</table>\n",
              "</div>"
            ],
            "text/plain": [
              "              label\n",
              "count  19996.000000\n",
              "mean       0.761652\n",
              "std        0.426083\n",
              "min        0.000000\n",
              "25%        1.000000\n",
              "50%        1.000000\n",
              "75%        1.000000\n",
              "max        1.000000"
            ]
          },
          "execution_count": 7,
          "metadata": {},
          "output_type": "execute_result"
        }
      ],
      "source": [
        "df.describe()"
      ]
    },
    {
      "cell_type": "code",
      "execution_count": null,
      "id": "33170de8-4560-4703-a2f1-85fadadf5218",
      "metadata": {
        "id": "33170de8-4560-4703-a2f1-85fadadf5218",
        "outputId": "b2d1b51a-06e0-4994-964a-fdcedb9a8cfe"
      },
      "outputs": [
        {
          "data": {
            "text/plain": [
              "0        This is  the best apps acording to a bunch of ...\n",
              "1        This is a pretty good version of the game for ...\n",
              "2        this is a really . there are a bunch of levels...\n",
              "3        This is a silly game and can be frustrating, b...\n",
              "4        This is a terrific game on any pad. Hrs of fun...\n",
              "                               ...                        \n",
              "19991    this app is fricken stupid.it froze on the kin...\n",
              "19992    Please add me!!!!! I need neighbors! Ginger101...\n",
              "19993    love it!  this game. is awesome. wish it had m...\n",
              "19994    I love love love this app on my side of fashio...\n",
              "19995    This game is a rip off. Here is a list of thin...\n",
              "Name: Text, Length: 19996, dtype: object"
            ]
          },
          "execution_count": 8,
          "metadata": {},
          "output_type": "execute_result"
        }
      ],
      "source": [
        "df['Text']"
      ]
    },
    {
      "cell_type": "code",
      "execution_count": null,
      "id": "36efe744-1964-42a7-97b3-3a97362d9468",
      "metadata": {
        "id": "36efe744-1964-42a7-97b3-3a97362d9468",
        "outputId": "6e6d67b4-c45a-4f6f-f00c-3f88b4050982"
      },
      "outputs": [
        {
          "data": {
            "text/plain": [
              "'this app is fricken stupid.it froze on the kindle and it wont allow me to place most iteams just ignore the 5 * people their wrong on so many levels. the people who made this game so were you excidently press the wrong button you them your own money. jer'"
            ]
          },
          "execution_count": 9,
          "metadata": {},
          "output_type": "execute_result"
        }
      ],
      "source": [
        "df['Text'][19991]"
      ]
    },
    {
      "cell_type": "code",
      "execution_count": null,
      "id": "641ed643-c6b2-435c-90be-18f9b7fd9b01",
      "metadata": {
        "id": "641ed643-c6b2-435c-90be-18f9b7fd9b01",
        "outputId": "489a3248-77af-41f5-9801-eb1cf944fdc0"
      },
      "outputs": [
        {
          "data": {
            "text/html": [
              "<div>\n",
              "<style scoped>\n",
              "    .dataframe tbody tr th:only-of-type {\n",
              "        vertical-align: middle;\n",
              "    }\n",
              "\n",
              "    .dataframe tbody tr th {\n",
              "        vertical-align: top;\n",
              "    }\n",
              "\n",
              "    .dataframe thead th {\n",
              "        text-align: right;\n",
              "    }\n",
              "</style>\n",
              "<table border=\"1\" class=\"dataframe\">\n",
              "  <thead>\n",
              "    <tr style=\"text-align: right;\">\n",
              "      <th></th>\n",
              "      <th>Text</th>\n",
              "      <th>label</th>\n",
              "    </tr>\n",
              "  </thead>\n",
              "  <tbody>\n",
              "    <tr>\n",
              "      <th>12019</th>\n",
              "      <td>This was my first attempt to find an alarm tha...</td>\n",
              "      <td>0</td>\n",
              "    </tr>\n",
              "    <tr>\n",
              "      <th>6513</th>\n",
              "      <td>I love puzzle games that make you think., but ...</td>\n",
              "      <td>0</td>\n",
              "    </tr>\n",
              "    <tr>\n",
              "      <th>2757</th>\n",
              "      <td>the moment i click on due date, it crashes. ca...</td>\n",
              "      <td>0</td>\n",
              "    </tr>\n",
              "    <tr>\n",
              "      <th>18226</th>\n",
              "      <td>I thought this would be fun but it was so slow...</td>\n",
              "      <td>0</td>\n",
              "    </tr>\n",
              "  </tbody>\n",
              "</table>\n",
              "</div>"
            ],
            "text/plain": [
              "                                                    Text  label\n",
              "12019  This was my first attempt to find an alarm tha...      0\n",
              "6513   I love puzzle games that make you think., but ...      0\n",
              "2757   the moment i click on due date, it crashes. ca...      0\n",
              "18226  I thought this would be fun but it was so slow...      0"
            ]
          },
          "execution_count": 10,
          "metadata": {},
          "output_type": "execute_result"
        }
      ],
      "source": [
        "negative = df[df['label'] == 0]\n",
        "negative.sample(4)"
      ]
    },
    {
      "cell_type": "code",
      "execution_count": null,
      "id": "ebfd7238-0c07-4a8a-9fc3-7815386a77db",
      "metadata": {
        "id": "ebfd7238-0c07-4a8a-9fc3-7815386a77db",
        "outputId": "9abfee7a-f63b-424a-e4d6-efba880d8750"
      },
      "outputs": [
        {
          "data": {
            "text/html": [
              "<div>\n",
              "<style scoped>\n",
              "    .dataframe tbody tr th:only-of-type {\n",
              "        vertical-align: middle;\n",
              "    }\n",
              "\n",
              "    .dataframe tbody tr th {\n",
              "        vertical-align: top;\n",
              "    }\n",
              "\n",
              "    .dataframe thead th {\n",
              "        text-align: right;\n",
              "    }\n",
              "</style>\n",
              "<table border=\"1\" class=\"dataframe\">\n",
              "  <thead>\n",
              "    <tr style=\"text-align: right;\">\n",
              "      <th></th>\n",
              "      <th>Text</th>\n",
              "      <th>label</th>\n",
              "    </tr>\n",
              "  </thead>\n",
              "  <tbody>\n",
              "    <tr>\n",
              "      <th>17862</th>\n",
              "      <td>Wow, just finished the whole game. It was a cl...</td>\n",
              "      <td>1</td>\n",
              "    </tr>\n",
              "    <tr>\n",
              "      <th>5048</th>\n",
              "      <td>I like the MapQuest, GPS &amp; Traffic because it ...</td>\n",
              "      <td>1</td>\n",
              "    </tr>\n",
              "    <tr>\n",
              "      <th>18622</th>\n",
              "      <td>Have just started to play sudoku and this help...</td>\n",
              "      <td>1</td>\n",
              "    </tr>\n",
              "    <tr>\n",
              "      <th>15509</th>\n",
              "      <td>This is truly a wonderful app. Not everything ...</td>\n",
              "      <td>1</td>\n",
              "    </tr>\n",
              "  </tbody>\n",
              "</table>\n",
              "</div>"
            ],
            "text/plain": [
              "                                                    Text  label\n",
              "17862  Wow, just finished the whole game. It was a cl...      1\n",
              "5048   I like the MapQuest, GPS & Traffic because it ...      1\n",
              "18622  Have just started to play sudoku and this help...      1\n",
              "15509  This is truly a wonderful app. Not everything ...      1"
            ]
          },
          "execution_count": 11,
          "metadata": {},
          "output_type": "execute_result"
        }
      ],
      "source": [
        "positive = df[df['label'] == 1]\n",
        "positive.sample(4)"
      ]
    },
    {
      "cell_type": "code",
      "execution_count": null,
      "id": "9fb2f8e4-3004-483c-9754-1e8597e4b4e9",
      "metadata": {
        "id": "9fb2f8e4-3004-483c-9754-1e8597e4b4e9",
        "outputId": "e2a3424f-a461-4de8-c26f-29d82e1b39a2"
      },
      "outputs": [
        {
          "data": {
            "text/plain": [
              "'This is a terrific game on any pad. Hrs of fun.  My grandkids love it. Great entertainment when waiting in long lines'"
            ]
          },
          "execution_count": 12,
          "metadata": {},
          "output_type": "execute_result"
        }
      ],
      "source": [
        "df['Text'][4]"
      ]
    },
    {
      "cell_type": "code",
      "execution_count": null,
      "id": "0ebd5515-bcde-4f50-b25e-fc6c65032044",
      "metadata": {
        "id": "0ebd5515-bcde-4f50-b25e-fc6c65032044",
        "outputId": "b6f143ff-a48b-4eef-9237-6863fe8c83a5"
      },
      "outputs": [
        {
          "data": {
            "text/plain": [
              "label\n",
              "1    15230\n",
              "0     4766\n",
              "Name: count, dtype: int64"
            ]
          },
          "execution_count": 13,
          "metadata": {},
          "output_type": "execute_result"
        }
      ],
      "source": [
        "df['label'].value_counts()"
      ]
    },
    {
      "cell_type": "code",
      "execution_count": null,
      "id": "7606f9cb-139b-4b47-929b-5f4304cfa60e",
      "metadata": {
        "id": "7606f9cb-139b-4b47-929b-5f4304cfa60e",
        "outputId": "9ce6231a-906c-4505-cdaf-870a9b96e97c"
      },
      "outputs": [
        {
          "data": {
            "image/png": "[encoded data removed]",
            "text/plain": [
              "<Figure size 640x480 with 1 Axes>"
            ]
          },
          "metadata": {},
          "output_type": "display_data"
        }
      ],
      "source": [
        "sns.histplot(data=df, x='label')\n",
        "plt.show()"
      ]
    },
    {
      "cell_type": "markdown",
      "id": "969f3035-57f6-43c1-9674-4b4a02cdb476",
      "metadata": {
        "id": "969f3035-57f6-43c1-9674-4b4a02cdb476"
      },
      "source": [
        "Above plot show that more reviews recived **POSITIVELY**"
      ]
    },
    {
      "cell_type": "markdown",
      "id": "2f8d762e-d669-47d7-b6cd-d29f519c5cbe",
      "metadata": {
        "jp-MarkdownHeadingCollapsed": true,
        "id": "2f8d762e-d669-47d7-b6cd-d29f519c5cbe"
      },
      "source": [
        "# 03: Apply Function"
      ]
    },
    {
      "cell_type": "markdown",
      "id": "bb39de64-3133-463b-bd3d-4f9f068fc9d5",
      "metadata": {
        "id": "bb39de64-3133-463b-bd3d-4f9f068fc9d5"
      },
      "source": [
        "Creating a 'lenght' column in that lenght of the given reviews"
      ]
    },
    {
      "cell_type": "code",
      "execution_count": null,
      "id": "80396a27-f800-4b80-839e-5b9bba68e16b",
      "metadata": {
        "id": "80396a27-f800-4b80-839e-5b9bba68e16b",
        "outputId": "3c79152e-4fb5-4b7d-e932-212663f45c06"
      },
      "outputs": [
        {
          "data": {
            "text/html": [
              "<div>\n",
              "<style scoped>\n",
              "    .dataframe tbody tr th:only-of-type {\n",
              "        vertical-align: middle;\n",
              "    }\n",
              "\n",
              "    .dataframe tbody tr th {\n",
              "        vertical-align: top;\n",
              "    }\n",
              "\n",
              "    .dataframe thead th {\n",
              "        text-align: right;\n",
              "    }\n",
              "</style>\n",
              "<table border=\"1\" class=\"dataframe\">\n",
              "  <thead>\n",
              "    <tr style=\"text-align: right;\">\n",
              "      <th></th>\n",
              "      <th>Text</th>\n",
              "      <th>label</th>\n",
              "      <th>lenght</th>\n",
              "    </tr>\n",
              "  </thead>\n",
              "  <tbody>\n",
              "    <tr>\n",
              "      <th>0</th>\n",
              "      <td>This is  the best apps acording to a bunch of ...</td>\n",
              "      <td>1</td>\n",
              "      <td>121</td>\n",
              "    </tr>\n",
              "    <tr>\n",
              "      <th>1</th>\n",
              "      <td>This is a pretty good version of the game for ...</td>\n",
              "      <td>1</td>\n",
              "      <td>129</td>\n",
              "    </tr>\n",
              "    <tr>\n",
              "      <th>2</th>\n",
              "      <td>this is a really . there are a bunch of levels...</td>\n",
              "      <td>1</td>\n",
              "      <td>87</td>\n",
              "    </tr>\n",
              "    <tr>\n",
              "      <th>3</th>\n",
              "      <td>This is a silly game and can be frustrating, b...</td>\n",
              "      <td>1</td>\n",
              "      <td>105</td>\n",
              "    </tr>\n",
              "    <tr>\n",
              "      <th>4</th>\n",
              "      <td>This is a terrific game on any pad. Hrs of fun...</td>\n",
              "      <td>1</td>\n",
              "      <td>117</td>\n",
              "    </tr>\n",
              "    <tr>\n",
              "      <th>...</th>\n",
              "      <td>...</td>\n",
              "      <td>...</td>\n",
              "      <td>...</td>\n",
              "    </tr>\n",
              "    <tr>\n",
              "      <th>19991</th>\n",
              "      <td>this app is fricken stupid.it froze on the kin...</td>\n",
              "      <td>0</td>\n",
              "      <td>254</td>\n",
              "    </tr>\n",
              "    <tr>\n",
              "      <th>19992</th>\n",
              "      <td>Please add me!!!!! I need neighbors! Ginger101...</td>\n",
              "      <td>1</td>\n",
              "      <td>185</td>\n",
              "    </tr>\n",
              "    <tr>\n",
              "      <th>19993</th>\n",
              "      <td>love it!  this game. is awesome. wish it had m...</td>\n",
              "      <td>1</td>\n",
              "      <td>105</td>\n",
              "    </tr>\n",
              "    <tr>\n",
              "      <th>19994</th>\n",
              "      <td>I love love love this app on my side of fashio...</td>\n",
              "      <td>1</td>\n",
              "      <td>254</td>\n",
              "    </tr>\n",
              "    <tr>\n",
              "      <th>19995</th>\n",
              "      <td>This game is a rip off. Here is a list of thin...</td>\n",
              "      <td>0</td>\n",
              "      <td>254</td>\n",
              "    </tr>\n",
              "  </tbody>\n",
              "</table>\n",
              "<p>19996 rows × 3 columns</p>\n",
              "</div>"
            ],
            "text/plain": [
              "                                                    Text  label  lenght\n",
              "0      This is  the best apps acording to a bunch of ...      1     121\n",
              "1      This is a pretty good version of the game for ...      1     129\n",
              "2      this is a really . there are a bunch of levels...      1      87\n",
              "3      This is a silly game and can be frustrating, b...      1     105\n",
              "4      This is a terrific game on any pad. Hrs of fun...      1     117\n",
              "...                                                  ...    ...     ...\n",
              "19991  this app is fricken stupid.it froze on the kin...      0     254\n",
              "19992  Please add me!!!!! I need neighbors! Ginger101...      1     185\n",
              "19993  love it!  this game. is awesome. wish it had m...      1     105\n",
              "19994  I love love love this app on my side of fashio...      1     254\n",
              "19995  This game is a rip off. Here is a list of thin...      0     254\n",
              "\n",
              "[19996 rows x 3 columns]"
            ]
          },
          "execution_count": 15,
          "metadata": {},
          "output_type": "execute_result"
        }
      ],
      "source": [
        "df['lenght'] = df['Text'].apply(len)\n",
        "df"
      ]
    },
    {
      "cell_type": "code",
      "execution_count": null,
      "id": "65d0409e-a5ee-485e-a07b-39eac6b97f9d",
      "metadata": {
        "id": "65d0409e-a5ee-485e-a07b-39eac6b97f9d",
        "outputId": "f7a991bf-0671-477a-9a7c-342664c8a1c5"
      },
      "outputs": [
        {
          "data": {
            "image/png": "[encoded data removed]",
            "text/plain": [
              "<Figure size 640x480 with 1 Axes>"
            ]
          },
          "metadata": {},
          "output_type": "display_data"
        }
      ],
      "source": [
        "sns.histplot(data=df, x=\"lenght\")\n",
        "plt.show()"
      ]
    },
    {
      "cell_type": "markdown",
      "id": "26e85578-6a06-4af7-809e-dad9bca9b607",
      "metadata": {
        "id": "26e85578-6a06-4af7-809e-dad9bca9b607"
      },
      "source": [
        "**We can notice above Chart**\n",
        "* the reviews lenght 250 above have more than 5000 times"
      ]
    },
    {
      "cell_type": "code",
      "execution_count": null,
      "id": "1d74b7af-eafb-4d00-a806-534a0e81fbca",
      "metadata": {
        "id": "1d74b7af-eafb-4d00-a806-534a0e81fbca",
        "outputId": "f21838db-e618-4c83-da03-0c6d9ae96653"
      },
      "outputs": [
        {
          "data": {
            "text/html": [
              "<div>\n",
              "<style scoped>\n",
              "    .dataframe tbody tr th:only-of-type {\n",
              "        vertical-align: middle;\n",
              "    }\n",
              "\n",
              "    .dataframe tbody tr th {\n",
              "        vertical-align: top;\n",
              "    }\n",
              "\n",
              "    .dataframe thead th {\n",
              "        text-align: right;\n",
              "    }\n",
              "</style>\n",
              "<table border=\"1\" class=\"dataframe\">\n",
              "  <thead>\n",
              "    <tr style=\"text-align: right;\">\n",
              "      <th></th>\n",
              "      <th>label</th>\n",
              "      <th>lenght</th>\n",
              "    </tr>\n",
              "  </thead>\n",
              "  <tbody>\n",
              "    <tr>\n",
              "      <th>count</th>\n",
              "      <td>19996.000000</td>\n",
              "      <td>19996.000000</td>\n",
              "    </tr>\n",
              "    <tr>\n",
              "      <th>mean</th>\n",
              "      <td>0.761652</td>\n",
              "      <td>175.787257</td>\n",
              "    </tr>\n",
              "    <tr>\n",
              "      <th>std</th>\n",
              "      <td>0.426083</td>\n",
              "      <td>58.964840</td>\n",
              "    </tr>\n",
              "    <tr>\n",
              "      <th>min</th>\n",
              "      <td>0.000000</td>\n",
              "      <td>3.000000</td>\n",
              "    </tr>\n",
              "    <tr>\n",
              "      <th>25%</th>\n",
              "      <td>1.000000</td>\n",
              "      <td>123.000000</td>\n",
              "    </tr>\n",
              "    <tr>\n",
              "      <th>50%</th>\n",
              "      <td>1.000000</td>\n",
              "      <td>164.000000</td>\n",
              "    </tr>\n",
              "    <tr>\n",
              "      <th>75%</th>\n",
              "      <td>1.000000</td>\n",
              "      <td>254.000000</td>\n",
              "    </tr>\n",
              "    <tr>\n",
              "      <th>max</th>\n",
              "      <td>1.000000</td>\n",
              "      <td>254.000000</td>\n",
              "    </tr>\n",
              "  </tbody>\n",
              "</table>\n",
              "</div>"
            ],
            "text/plain": [
              "              label        lenght\n",
              "count  19996.000000  19996.000000\n",
              "mean       0.761652    175.787257\n",
              "std        0.426083     58.964840\n",
              "min        0.000000      3.000000\n",
              "25%        1.000000    123.000000\n",
              "50%        1.000000    164.000000\n",
              "75%        1.000000    254.000000\n",
              "max        1.000000    254.000000"
            ]
          },
          "execution_count": 17,
          "metadata": {},
          "output_type": "execute_result"
        }
      ],
      "source": [
        "df.describe()"
      ]
    },
    {
      "cell_type": "markdown",
      "id": "48da50fb-1d8b-4598-860c-3b5d14eb1f1f",
      "metadata": {
        "id": "48da50fb-1d8b-4598-860c-3b5d14eb1f1f"
      },
      "source": [
        "**We can notic above**\n",
        "* Max lenght of Reviews 254\n",
        "* Min lenght of Reviews 3"
      ]
    },
    {
      "cell_type": "code",
      "execution_count": null,
      "id": "7923b50a-8ff0-4aaf-8d65-7f909d8d2be7",
      "metadata": {
        "id": "7923b50a-8ff0-4aaf-8d65-7f909d8d2be7",
        "outputId": "427e0607-6c71-45fa-803a-d0317bbc479b"
      },
      "outputs": [
        {
          "data": {
            "text/html": [
              "<div>\n",
              "<style scoped>\n",
              "    .dataframe tbody tr th:only-of-type {\n",
              "        vertical-align: middle;\n",
              "    }\n",
              "\n",
              "    .dataframe tbody tr th {\n",
              "        vertical-align: top;\n",
              "    }\n",
              "\n",
              "    .dataframe thead th {\n",
              "        text-align: right;\n",
              "    }\n",
              "</style>\n",
              "<table border=\"1\" class=\"dataframe\">\n",
              "  <thead>\n",
              "    <tr style=\"text-align: right;\">\n",
              "      <th></th>\n",
              "      <th>Text</th>\n",
              "      <th>label</th>\n",
              "      <th>lenght</th>\n",
              "    </tr>\n",
              "  </thead>\n",
              "  <tbody>\n",
              "    <tr>\n",
              "      <th>766</th>\n",
              "      <td>fun</td>\n",
              "      <td>1</td>\n",
              "      <td>3</td>\n",
              "    </tr>\n",
              "    <tr>\n",
              "      <th>11377</th>\n",
              "      <td>Fun</td>\n",
              "      <td>1</td>\n",
              "      <td>3</td>\n",
              "    </tr>\n",
              "  </tbody>\n",
              "</table>\n",
              "</div>"
            ],
            "text/plain": [
              "      Text  label  lenght\n",
              "766    fun      1       3\n",
              "11377  Fun      1       3"
            ]
          },
          "execution_count": 18,
          "metadata": {},
          "output_type": "execute_result"
        }
      ],
      "source": [
        "# Let see shortest review\n",
        "df[df['lenght'] == 3]"
      ]
    },
    {
      "cell_type": "markdown",
      "id": "257f641e-b02b-47bf-8ab4-aaae24ee401a",
      "metadata": {
        "jp-MarkdownHeadingCollapsed": true,
        "id": "257f641e-b02b-47bf-8ab4-aaae24ee401a"
      },
      "source": [
        "# 04: Punctuations and Stopwords"
      ]
    },
    {
      "cell_type": "code",
      "execution_count": null,
      "id": "f16e43a5-01a3-4530-bc9a-2dc498d69be6",
      "metadata": {
        "id": "f16e43a5-01a3-4530-bc9a-2dc498d69be6"
      },
      "outputs": [],
      "source": [
        "import string"
      ]
    },
    {
      "cell_type": "code",
      "execution_count": null,
      "id": "13b055c0-636e-422e-9949-dfa1a961f278",
      "metadata": {
        "id": "13b055c0-636e-422e-9949-dfa1a961f278"
      },
      "outputs": [],
      "source": [
        "from nltk.corpus import stopwords"
      ]
    },
    {
      "cell_type": "code",
      "execution_count": null,
      "id": "5dd0c7a0-4c35-47ae-a388-a42ebacd50ca",
      "metadata": {
        "id": "5dd0c7a0-4c35-47ae-a388-a42ebacd50ca",
        "outputId": "93b69d40-b476-4340-ab16-35b1a29d9128"
      },
      "outputs": [
        {
          "name": "stderr",
          "output_type": "stream",
          "text": [
            "[nltk_data] Downloading package stopwords to\n",
            "[nltk_data]     C:\\Users\\Acer\\AppData\\Roaming\\nltk_data...\n",
            "[nltk_data]   Package stopwords is already up-to-date!\n"
          ]
        },
        {
          "data": {
            "text/plain": [
              "True"
            ]
          },
          "execution_count": 21,
          "metadata": {},
          "output_type": "execute_result"
        }
      ],
      "source": [
        "nltk.download(\"stopwords\")"
      ]
    },
    {
      "cell_type": "code",
      "execution_count": null,
      "id": "a686b66c-39d9-4c6d-ab75-986063b3fc7a",
      "metadata": {
        "id": "a686b66c-39d9-4c6d-ab75-986063b3fc7a",
        "outputId": "671e6e95-1540-4e8e-941e-412315bf3e5f"
      },
      "outputs": [
        {
          "data": {
            "text/plain": [
              "['i',\n",
              " 'me',\n",
              " 'my',\n",
              " 'myself',\n",
              " 'we',\n",
              " 'our',\n",
              " 'ours',\n",
              " 'ourselves',\n",
              " 'you',\n",
              " \"you're\",\n",
              " \"you've\",\n",
              " \"you'll\",\n",
              " \"you'd\",\n",
              " 'your',\n",
              " 'yours',\n",
              " 'yourself',\n",
              " 'yourselves',\n",
              " 'he',\n",
              " 'him',\n",
              " 'his',\n",
              " 'himself',\n",
              " 'she',\n",
              " \"she's\",\n",
              " 'her',\n",
              " 'hers',\n",
              " 'herself',\n",
              " 'it',\n",
              " \"it's\",\n",
              " 'its',\n",
              " 'itself',\n",
              " 'they',\n",
              " 'them',\n",
              " 'their',\n",
              " 'theirs',\n",
              " 'themselves',\n",
              " 'what',\n",
              " 'which',\n",
              " 'who',\n",
              " 'whom',\n",
              " 'this',\n",
              " 'that',\n",
              " \"that'll\",\n",
              " 'these',\n",
              " 'those',\n",
              " 'am',\n",
              " 'is',\n",
              " 'are',\n",
              " 'was',\n",
              " 'were',\n",
              " 'be',\n",
              " 'been',\n",
              " 'being',\n",
              " 'have',\n",
              " 'has',\n",
              " 'had',\n",
              " 'having',\n",
              " 'do',\n",
              " 'does',\n",
              " 'did',\n",
              " 'doing',\n",
              " 'a',\n",
              " 'an',\n",
              " 'the',\n",
              " 'and',\n",
              " 'but',\n",
              " 'if',\n",
              " 'or',\n",
              " 'because',\n",
              " 'as',\n",
              " 'until',\n",
              " 'while',\n",
              " 'of',\n",
              " 'at',\n",
              " 'by',\n",
              " 'for',\n",
              " 'with',\n",
              " 'about',\n",
              " 'against',\n",
              " 'between',\n",
              " 'into',\n",
              " 'through',\n",
              " 'during',\n",
              " 'before',\n",
              " 'after',\n",
              " 'above',\n",
              " 'below',\n",
              " 'to',\n",
              " 'from',\n",
              " 'up',\n",
              " 'down',\n",
              " 'in',\n",
              " 'out',\n",
              " 'on',\n",
              " 'off',\n",
              " 'over',\n",
              " 'under',\n",
              " 'again',\n",
              " 'further',\n",
              " 'then',\n",
              " 'once',\n",
              " 'here',\n",
              " 'there',\n",
              " 'when',\n",
              " 'where',\n",
              " 'why',\n",
              " 'how',\n",
              " 'all',\n",
              " 'any',\n",
              " 'both',\n",
              " 'each',\n",
              " 'few',\n",
              " 'more',\n",
              " 'most',\n",
              " 'other',\n",
              " 'some',\n",
              " 'such',\n",
              " 'no',\n",
              " 'nor',\n",
              " 'not',\n",
              " 'only',\n",
              " 'own',\n",
              " 'same',\n",
              " 'so',\n",
              " 'than',\n",
              " 'too',\n",
              " 'very',\n",
              " 's',\n",
              " 't',\n",
              " 'can',\n",
              " 'will',\n",
              " 'just',\n",
              " 'don',\n",
              " \"don't\",\n",
              " 'should',\n",
              " \"should've\",\n",
              " 'now',\n",
              " 'd',\n",
              " 'll',\n",
              " 'm',\n",
              " 'o',\n",
              " 're',\n",
              " 've',\n",
              " 'y',\n",
              " 'ain',\n",
              " 'aren',\n",
              " \"aren't\",\n",
              " 'couldn',\n",
              " \"couldn't\",\n",
              " 'didn',\n",
              " \"didn't\",\n",
              " 'doesn',\n",
              " \"doesn't\",\n",
              " 'hadn',\n",
              " \"hadn't\",\n",
              " 'hasn',\n",
              " \"hasn't\",\n",
              " 'haven',\n",
              " \"haven't\",\n",
              " 'isn',\n",
              " \"isn't\",\n",
              " 'ma',\n",
              " 'mightn',\n",
              " \"mightn't\",\n",
              " 'mustn',\n",
              " \"mustn't\",\n",
              " 'needn',\n",
              " \"needn't\",\n",
              " 'shan',\n",
              " \"shan't\",\n",
              " 'shouldn',\n",
              " \"shouldn't\",\n",
              " 'wasn',\n",
              " \"wasn't\",\n",
              " 'weren',\n",
              " \"weren't\",\n",
              " 'won',\n",
              " \"won't\",\n",
              " 'wouldn',\n",
              " \"wouldn't\"]"
            ]
          },
          "execution_count": 22,
          "metadata": {},
          "output_type": "execute_result"
        }
      ],
      "source": [
        "stopword = stopwords.words('english')\n",
        "stopword"
      ]
    },
    {
      "cell_type": "code",
      "execution_count": null,
      "id": "c67cbe7e-1025-4b88-9848-556b26315481",
      "metadata": {
        "id": "c67cbe7e-1025-4b88-9848-556b26315481"
      },
      "outputs": [],
      "source": [
        "# Removing a Punctuation and Sstopwords\n",
        "def cleaning(message):\n",
        "    text_PR = [i for i in message if i not in string.punctuation]\n",
        "    text_PR_join = ''.join(text_PR)\n",
        "    text_PR_join = [j for j in text_PR_join.split() if j.lower() not in stopword]\n",
        "    return text_PR_join"
      ]
    },
    {
      "cell_type": "code",
      "execution_count": null,
      "id": "8f70aee8-33aa-464e-b306-8d915bd461c2",
      "metadata": {
        "id": "8f70aee8-33aa-464e-b306-8d915bd461c2",
        "outputId": "651bec75-497f-4675-8a23-b3d922586d3d"
      },
      "outputs": [
        {
          "data": {
            "text/plain": [
              "0        [best, apps, acording, bunch, people, agree, b...\n",
              "1        [pretty, good, version, game, free, LOTS, diff...\n",
              "2        [really, bunch, levels, find, golden, eggs, su...\n",
              "3        [silly, game, frustrating, lots, fun, definite...\n",
              "4        [terrific, game, pad, Hrs, fun, grandkids, lov...\n",
              "                               ...                        \n",
              "19991    [app, fricken, stupidit, froze, kindle, wont, ...\n",
              "19992    [Please, add, need, neighbors, Ginger1016, tha...\n",
              "19993    [love, game, awesome, wish, free, stuff, house...\n",
              "19994    [love, love, love, app, side, fashion, story, ...\n",
              "19995    [game, rip, list, things, MAKE, BETTERbull, Fi...\n",
              "Name: Text, Length: 19996, dtype: object"
            ]
          },
          "execution_count": 24,
          "metadata": {},
          "output_type": "execute_result"
        }
      ],
      "source": [
        "df_reviws_clean = df['Text'].apply(cleaning)\n",
        "df_reviws_clean"
      ]
    },
    {
      "cell_type": "code",
      "execution_count": null,
      "id": "c9a2e713-a781-4286-ae68-468ffa33d3d8",
      "metadata": {
        "id": "c9a2e713-a781-4286-ae68-468ffa33d3d8",
        "outputId": "05f64cb4-fe43-4117-b109-6db4052f8218"
      },
      "outputs": [
        {
          "data": {
            "text/plain": [
              "['entertaining',\n",
              " 'game',\n",
              " 'dont',\n",
              " 'smart',\n",
              " 'play',\n",
              " 'guess',\n",
              " 'thats',\n",
              " 'like',\n",
              " 'itits',\n",
              " 'easy',\n",
              " 'fun',\n",
              " 'thats',\n",
              " 'games',\n",
              " 'suppose',\n",
              " 'warned',\n",
              " 'game',\n",
              " 'highly',\n",
              " 'addictive']"
            ]
          },
          "execution_count": 25,
          "metadata": {},
          "output_type": "execute_result"
        }
      ],
      "source": [
        "df_reviws_clean[5]"
      ]
    },
    {
      "cell_type": "markdown",
      "id": "d6a47b34-dfdd-4dc2-a346-c3b8247cd3f3",
      "metadata": {
        "id": "d6a47b34-dfdd-4dc2-a346-c3b8247cd3f3"
      },
      "source": [
        "# 05: Vectorization"
      ]
    },
    {
      "cell_type": "code",
      "execution_count": null,
      "id": "35f0e35f-4b05-450e-bfec-9afc6d5f7fc5",
      "metadata": {
        "id": "35f0e35f-4b05-450e-bfec-9afc6d5f7fc5"
      },
      "outputs": [],
      "source": [
        "from sklearn.feature_extraction.text import CountVectorizer"
      ]
    },
    {
      "cell_type": "code",
      "execution_count": null,
      "id": "bacdf1ea-a003-46ec-9a7f-9d3b913b977f",
      "metadata": {
        "id": "bacdf1ea-a003-46ec-9a7f-9d3b913b977f"
      },
      "outputs": [],
      "source": [
        "vector = CountVectorizer(analyzer=cleaning, dtype=np.uint8)\n",
        "df_vector = vector.fit_transform(df['Text'])"
      ]
    },
    {
      "cell_type": "code",
      "execution_count": null,
      "id": "2b4503f0-8fd6-40a9-ab87-8b2f7914a0fd",
      "metadata": {
        "scrolled": true,
        "id": "2b4503f0-8fd6-40a9-ab87-8b2f7914a0fd",
        "outputId": "109744fb-3e20-4923-d8da-997ded5dc668"
      },
      "outputs": [
        {
          "data": {
            "text/plain": [
              "<19996x28693 sparse matrix of type '<class 'numpy.uint8'>'\n",
              "\twith 318340 stored elements in Compressed Sparse Row format>"
            ]
          },
          "execution_count": 28,
          "metadata": {},
          "output_type": "execute_result"
        }
      ],
      "source": [
        "df_vector"
      ]
    },
    {
      "cell_type": "code",
      "execution_count": null,
      "id": "b37b4bdf-ec2a-4c23-aaeb-fd304f4d6473",
      "metadata": {
        "id": "b37b4bdf-ec2a-4c23-aaeb-fd304f4d6473",
        "outputId": "56793aba-f948-40b1-af8d-2b165fdedb37"
      },
      "outputs": [
        {
          "data": {
            "text/plain": [
              "array([[0, 0, 0, ..., 0, 0, 0],\n",
              "       [0, 0, 0, ..., 0, 0, 0],\n",
              "       [0, 0, 0, ..., 0, 0, 0],\n",
              "       ...,\n",
              "       [0, 0, 0, ..., 0, 0, 0],\n",
              "       [0, 0, 0, ..., 0, 0, 0],\n",
              "       [0, 0, 0, ..., 0, 0, 0]], dtype=uint8)"
            ]
          },
          "execution_count": 29,
          "metadata": {},
          "output_type": "execute_result"
        }
      ],
      "source": [
        "df_vector.toarray()"
      ]
    },
    {
      "cell_type": "code",
      "execution_count": null,
      "id": "7ea9f140-e6cc-4273-b634-732c401449e7",
      "metadata": {
        "id": "7ea9f140-e6cc-4273-b634-732c401449e7",
        "outputId": "25920891-df63-47e5-e609-14f59f0786c0"
      },
      "outputs": [
        {
          "data": {
            "text/plain": [
              "(19996, 28693)"
            ]
          },
          "execution_count": 30,
          "metadata": {},
          "output_type": "execute_result"
        }
      ],
      "source": [
        "df_vector.shape"
      ]
    },
    {
      "cell_type": "code",
      "execution_count": null,
      "id": "7ea07506-0ab7-4931-89c9-4fae35d8794d",
      "metadata": {
        "id": "7ea07506-0ab7-4931-89c9-4fae35d8794d",
        "outputId": "597e1706-e2a5-45ed-d080-e802d4c103b3"
      },
      "outputs": [
        {
          "data": {
            "text/html": [
              "<div>\n",
              "<style scoped>\n",
              "    .dataframe tbody tr th:only-of-type {\n",
              "        vertical-align: middle;\n",
              "    }\n",
              "\n",
              "    .dataframe tbody tr th {\n",
              "        vertical-align: top;\n",
              "    }\n",
              "\n",
              "    .dataframe thead th {\n",
              "        text-align: right;\n",
              "    }\n",
              "</style>\n",
              "<table border=\"1\" class=\"dataframe\">\n",
              "  <thead>\n",
              "    <tr style=\"text-align: right;\">\n",
              "      <th></th>\n",
              "      <th>0</th>\n",
              "      <th>00</th>\n",
              "      <th>000</th>\n",
              "      <th>000000</th>\n",
              "      <th>007</th>\n",
              "      <th>01302013</th>\n",
              "      <th>02</th>\n",
              "      <th>025cent</th>\n",
              "      <th>04042011</th>\n",
              "      <th>05</th>\n",
              "      <th>...</th>\n",
              "      <th>zoo</th>\n",
              "      <th>zoology</th>\n",
              "      <th>zoom</th>\n",
              "      <th>zoomed</th>\n",
              "      <th>zooming</th>\n",
              "      <th>zpg</th>\n",
              "      <th>zz</th>\n",
              "      <th>zzz</th>\n",
              "      <th>zzzz</th>\n",
              "      <th>zzzzz</th>\n",
              "    </tr>\n",
              "  </thead>\n",
              "  <tbody>\n",
              "    <tr>\n",
              "      <th>0</th>\n",
              "      <td>0</td>\n",
              "      <td>0</td>\n",
              "      <td>0</td>\n",
              "      <td>0</td>\n",
              "      <td>0</td>\n",
              "      <td>0</td>\n",
              "      <td>0</td>\n",
              "      <td>0</td>\n",
              "      <td>0</td>\n",
              "      <td>0</td>\n",
              "      <td>...</td>\n",
              "      <td>0</td>\n",
              "      <td>0</td>\n",
              "      <td>0</td>\n",
              "      <td>0</td>\n",
              "      <td>0</td>\n",
              "      <td>0</td>\n",
              "      <td>0</td>\n",
              "      <td>0</td>\n",
              "      <td>0</td>\n",
              "      <td>0</td>\n",
              "    </tr>\n",
              "    <tr>\n",
              "      <th>1</th>\n",
              "      <td>0</td>\n",
              "      <td>0</td>\n",
              "      <td>0</td>\n",
              "      <td>0</td>\n",
              "      <td>0</td>\n",
              "      <td>0</td>\n",
              "      <td>0</td>\n",
              "      <td>0</td>\n",
              "      <td>0</td>\n",
              "      <td>0</td>\n",
              "      <td>...</td>\n",
              "      <td>0</td>\n",
              "      <td>0</td>\n",
              "      <td>0</td>\n",
              "      <td>0</td>\n",
              "      <td>0</td>\n",
              "      <td>0</td>\n",
              "      <td>0</td>\n",
              "      <td>0</td>\n",
              "      <td>0</td>\n",
              "      <td>0</td>\n",
              "    </tr>\n",
              "    <tr>\n",
              "      <th>2</th>\n",
              "      <td>0</td>\n",
              "      <td>0</td>\n",
              "      <td>0</td>\n",
              "      <td>0</td>\n",
              "      <td>0</td>\n",
              "      <td>0</td>\n",
              "      <td>0</td>\n",
              "      <td>0</td>\n",
              "      <td>0</td>\n",
              "      <td>0</td>\n",
              "      <td>...</td>\n",
              "      <td>0</td>\n",
              "      <td>0</td>\n",
              "      <td>0</td>\n",
              "      <td>0</td>\n",
              "      <td>0</td>\n",
              "      <td>0</td>\n",
              "      <td>0</td>\n",
              "      <td>0</td>\n",
              "      <td>0</td>\n",
              "      <td>0</td>\n",
              "    </tr>\n",
              "    <tr>\n",
              "      <th>3</th>\n",
              "      <td>0</td>\n",
              "      <td>0</td>\n",
              "      <td>0</td>\n",
              "      <td>0</td>\n",
              "      <td>0</td>\n",
              "      <td>0</td>\n",
              "      <td>0</td>\n",
              "      <td>0</td>\n",
              "      <td>0</td>\n",
              "      <td>0</td>\n",
              "      <td>...</td>\n",
              "      <td>0</td>\n",
              "      <td>0</td>\n",
              "      <td>0</td>\n",
              "      <td>0</td>\n",
              "      <td>0</td>\n",
              "      <td>0</td>\n",
              "      <td>0</td>\n",
              "      <td>0</td>\n",
              "      <td>0</td>\n",
              "      <td>0</td>\n",
              "    </tr>\n",
              "    <tr>\n",
              "      <th>4</th>\n",
              "      <td>0</td>\n",
              "      <td>0</td>\n",
              "      <td>0</td>\n",
              "      <td>0</td>\n",
              "      <td>0</td>\n",
              "      <td>0</td>\n",
              "      <td>0</td>\n",
              "      <td>0</td>\n",
              "      <td>0</td>\n",
              "      <td>0</td>\n",
              "      <td>...</td>\n",
              "      <td>0</td>\n",
              "      <td>0</td>\n",
              "      <td>0</td>\n",
              "      <td>0</td>\n",
              "      <td>0</td>\n",
              "      <td>0</td>\n",
              "      <td>0</td>\n",
              "      <td>0</td>\n",
              "      <td>0</td>\n",
              "      <td>0</td>\n",
              "    </tr>\n",
              "  </tbody>\n",
              "</table>\n",
              "<p>5 rows × 28693 columns</p>\n",
              "</div>"
            ],
            "text/plain": [
              "   0  00  000  000000  007  01302013  02  025cent  04042011  05  ...  zoo  \\\n",
              "0  0   0    0       0    0         0   0        0         0   0  ...    0   \n",
              "1  0   0    0       0    0         0   0        0         0   0  ...    0   \n",
              "2  0   0    0       0    0         0   0        0         0   0  ...    0   \n",
              "3  0   0    0       0    0         0   0        0         0   0  ...    0   \n",
              "4  0   0    0       0    0         0   0        0         0   0  ...    0   \n",
              "\n",
              "   zoology  zoom  zoomed  zooming  zpg  zz  zzz  zzzz  zzzzz  \n",
              "0        0     0       0        0    0   0    0     0      0  \n",
              "1        0     0       0        0    0   0    0     0      0  \n",
              "2        0     0       0        0    0   0    0     0      0  \n",
              "3        0     0       0        0    0   0    0     0      0  \n",
              "4        0     0       0        0    0   0    0     0      0  \n",
              "\n",
              "[5 rows x 28693 columns]"
            ]
          },
          "execution_count": 31,
          "metadata": {},
          "output_type": "execute_result"
        }
      ],
      "source": [
        "#With Heading\n",
        "data = pd.DataFrame(data=df_vector.toarray(), columns=vector.get_feature_names_out())\n",
        "x = data\n",
        "x.head()"
      ]
    },
    {
      "cell_type": "code",
      "execution_count": null,
      "id": "2bb61e2b-b74c-49f2-b23c-932a6d8cc5f6",
      "metadata": {
        "id": "2bb61e2b-b74c-49f2-b23c-932a6d8cc5f6",
        "outputId": "650d00d6-5648-4583-df6c-ef4d895c17bf"
      },
      "outputs": [
        {
          "data": {
            "text/plain": [
              "0        1\n",
              "1        1\n",
              "2        1\n",
              "3        1\n",
              "4        1\n",
              "        ..\n",
              "19991    0\n",
              "19992    1\n",
              "19993    1\n",
              "19994    1\n",
              "19995    0\n",
              "Name: label, Length: 19996, dtype: int64"
            ]
          },
          "execution_count": 32,
          "metadata": {},
          "output_type": "execute_result"
        }
      ],
      "source": [
        "y = df['label']\n",
        "y"
      ]
    },
    {
      "cell_type": "code",
      "execution_count": null,
      "id": "4c96a832-fbb8-445d-af25-49f57a862b01",
      "metadata": {
        "id": "4c96a832-fbb8-445d-af25-49f57a862b01",
        "outputId": "3abd4bea-55a9-4bf5-a61f-a95de60de268"
      },
      "outputs": [
        {
          "data": {
            "text/plain": [
              "(19996, 28693)"
            ]
          },
          "execution_count": 33,
          "metadata": {},
          "output_type": "execute_result"
        }
      ],
      "source": [
        "x.shape"
      ]
    },
    {
      "cell_type": "code",
      "execution_count": null,
      "id": "2eabde75-1de4-4b18-b425-5a8c7b839f5b",
      "metadata": {
        "id": "2eabde75-1de4-4b18-b425-5a8c7b839f5b",
        "outputId": "05530c24-5fdf-4335-bb60-735a30674e69"
      },
      "outputs": [
        {
          "data": {
            "text/plain": [
              "(19996,)"
            ]
          },
          "execution_count": 34,
          "metadata": {},
          "output_type": "execute_result"
        }
      ],
      "source": [
        "y.shape"
      ]
    },
    {
      "cell_type": "markdown",
      "id": "fe660fb4-6631-40ac-9f28-3977b68b3ad0",
      "metadata": {
        "id": "fe660fb4-6631-40ac-9f28-3977b68b3ad0"
      },
      "source": [
        "# 06: Working on Naive Bayes Theoram"
      ]
    },
    {
      "cell_type": "code",
      "execution_count": null,
      "id": "84063a1e-bd56-4290-822e-6b963f1a8a4a",
      "metadata": {
        "id": "84063a1e-bd56-4290-822e-6b963f1a8a4a"
      },
      "outputs": [],
      "source": [
        "from sklearn.model_selection import train_test_split"
      ]
    },
    {
      "cell_type": "code",
      "execution_count": null,
      "id": "0657ad55-d423-4ae4-8ed6-9fbad7657695",
      "metadata": {
        "id": "0657ad55-d423-4ae4-8ed6-9fbad7657695"
      },
      "outputs": [],
      "source": [
        "x_train, x_test, y_train, y_test = train_test_split(x, y, test_size=0.25, random_state=27)"
      ]
    },
    {
      "cell_type": "code",
      "execution_count": null,
      "id": "1a9ca99b-978e-41da-be70-f7142aabc586",
      "metadata": {
        "id": "1a9ca99b-978e-41da-be70-f7142aabc586"
      },
      "outputs": [],
      "source": [
        "from sklearn.naive_bayes import MultinomialNB"
      ]
    },
    {
      "cell_type": "code",
      "execution_count": null,
      "id": "09eff93c-ef9c-47af-a587-dad63b0c2233",
      "metadata": {
        "id": "09eff93c-ef9c-47af-a587-dad63b0c2233",
        "outputId": "c42f2d25-2872-4a20-b7e3-81d0322f3f62"
      },
      "outputs": [
        {
          "data": {
            "text/html": [
              "<style>#sk-container-id-1 {\n",
              "  /* Definition of color scheme common for light and dark mode */\n",
              "  --sklearn-color-text: black;\n",
              "  --sklearn-color-line: gray;\n",
              "  /* Definition of color scheme for unfitted estimators */\n",
              "  --sklearn-color-unfitted-level-0: #fff5e6;\n",
              "  --sklearn-color-unfitted-level-1: #f6e4d2;\n",
              "  --sklearn-color-unfitted-level-2: #ffe0b3;\n",
              "  --sklearn-color-unfitted-level-3: chocolate;\n",
              "  /* Definition of color scheme for fitted estimators */\n",
              "  --sklearn-color-fitted-level-0: #f0f8ff;\n",
              "  --sklearn-color-fitted-level-1: #d4ebff;\n",
              "  --sklearn-color-fitted-level-2: #b3dbfd;\n",
              "  --sklearn-color-fitted-level-3: cornflowerblue;\n",
              "\n",
              "  /* Specific color for light theme */\n",
              "  --sklearn-color-text-on-default-background: var(--sg-text-color, var(--theme-code-foreground, var(--jp-content-font-color1, black)));\n",
              "  --sklearn-color-background: var(--sg-background-color, var(--theme-background, var(--jp-layout-color0, white)));\n",
              "  --sklearn-color-border-box: var(--sg-text-color, var(--theme-code-foreground, var(--jp-content-font-color1, black)));\n",
              "  --sklearn-color-icon: #696969;\n",
              "\n",
              "  @media (prefers-color-scheme: dark) {\n",
              "    /* Redefinition of color scheme for dark theme */\n",
              "    --sklearn-color-text-on-default-background: var(--sg-text-color, var(--theme-code-foreground, var(--jp-content-font-color1, white)));\n",
              "    --sklearn-color-background: var(--sg-background-color, var(--theme-background, var(--jp-layout-color0, #111)));\n",
              "    --sklearn-color-border-box: var(--sg-text-color, var(--theme-code-foreground, var(--jp-content-font-color1, white)));\n",
              "    --sklearn-color-icon: #878787;\n",
              "  }\n",
              "}\n",
              "\n",
              "#sk-container-id-1 {\n",
              "  color: var(--sklearn-color-text);\n",
              "}\n",
              "\n",
              "#sk-container-id-1 pre {\n",
              "  padding: 0;\n",
              "}\n",
              "\n",
              "#sk-container-id-1 input.sk-hidden--visually {\n",
              "  border: 0;\n",
              "  clip: rect(1px 1px 1px 1px);\n",
              "  clip: rect(1px, 1px, 1px, 1px);\n",
              "  height: 1px;\n",
              "  margin: -1px;\n",
              "  overflow: hidden;\n",
              "  padding: 0;\n",
              "  position: absolute;\n",
              "  width: 1px;\n",
              "}\n",
              "\n",
              "#sk-container-id-1 div.sk-dashed-wrapped {\n",
              "  border: 1px dashed var(--sklearn-color-line);\n",
              "  margin: 0 0.4em 0.5em 0.4em;\n",
              "  box-sizing: border-box;\n",
              "  padding-bottom: 0.4em;\n",
              "  background-color: var(--sklearn-color-background);\n",
              "}\n",
              "\n",
              "#sk-container-id-1 div.sk-container {\n",
              "  /* jupyter's `normalize.less` sets `[hidden] { display: none; }`\n",
              "     but bootstrap.min.css set `[hidden] { display: none !important; }`\n",
              "     so we also need the `!important` here to be able to override the\n",
              "     default hidden behavior on the sphinx rendered scikit-learn.org.\n",
              "     See: https://github.com/scikit-learn/scikit-learn/issues/21755 */\n",
              "  display: inline-block !important;\n",
              "  position: relative;\n",
              "}\n",
              "\n",
              "#sk-container-id-1 div.sk-text-repr-fallback {\n",
              "  display: none;\n",
              "}\n",
              "\n",
              "div.sk-parallel-item,\n",
              "div.sk-serial,\n",
              "div.sk-item {\n",
              "  /* draw centered vertical line to link estimators */\n",
              "  background-image: linear-gradient(var(--sklearn-color-text-on-default-background), var(--sklearn-color-text-on-default-background));\n",
              "  background-size: 2px 100%;\n",
              "  background-repeat: no-repeat;\n",
              "  background-position: center center;\n",
              "}\n",
              "\n",
              "/* Parallel-specific style estimator block */\n",
              "\n",
              "#sk-container-id-1 div.sk-parallel-item::after {\n",
              "  content: \"\";\n",
              "  width: 100%;\n",
              "  border-bottom: 2px solid var(--sklearn-color-text-on-default-background);\n",
              "  flex-grow: 1;\n",
              "}\n",
              "\n",
              "#sk-container-id-1 div.sk-parallel {\n",
              "  display: flex;\n",
              "  align-items: stretch;\n",
              "  justify-content: center;\n",
              "  background-color: var(--sklearn-color-background);\n",
              "  position: relative;\n",
              "}\n",
              "\n",
              "#sk-container-id-1 div.sk-parallel-item {\n",
              "  display: flex;\n",
              "  flex-direction: column;\n",
              "}\n",
              "\n",
              "#sk-container-id-1 div.sk-parallel-item:first-child::after {\n",
              "  align-self: flex-end;\n",
              "  width: 50%;\n",
              "}\n",
              "\n",
              "#sk-container-id-1 div.sk-parallel-item:last-child::after {\n",
              "  align-self: flex-start;\n",
              "  width: 50%;\n",
              "}\n",
              "\n",
              "#sk-container-id-1 div.sk-parallel-item:only-child::after {\n",
              "  width: 0;\n",
              "}\n",
              "\n",
              "/* Serial-specific style estimator block */\n",
              "\n",
              "#sk-container-id-1 div.sk-serial {\n",
              "  display: flex;\n",
              "  flex-direction: column;\n",
              "  align-items: center;\n",
              "  background-color: var(--sklearn-color-background);\n",
              "  padding-right: 1em;\n",
              "  padding-left: 1em;\n",
              "}\n",
              "\n",
              "\n",
              "/* Toggleable style: style used for estimator/Pipeline/ColumnTransformer box that is\n",
              "clickable and can be expanded/collapsed.\n",
              "- Pipeline and ColumnTransformer use this feature and define the default style\n",
              "- Estimators will overwrite some part of the style using the `sk-estimator` class\n",
              "*/\n",
              "\n",
              "/* Pipeline and ColumnTransformer style (default) */\n",
              "\n",
              "#sk-container-id-1 div.sk-toggleable {\n",
              "  /* Default theme specific background. It is overwritten whether we have a\n",
              "  specific estimator or a Pipeline/ColumnTransformer */\n",
              "  background-color: var(--sklearn-color-background);\n",
              "}\n",
              "\n",
              "/* Toggleable label */\n",
              "#sk-container-id-1 label.sk-toggleable__label {\n",
              "  cursor: pointer;\n",
              "  display: block;\n",
              "  width: 100%;\n",
              "  margin-bottom: 0;\n",
              "  padding: 0.5em;\n",
              "  box-sizing: border-box;\n",
              "  text-align: center;\n",
              "}\n",
              "\n",
              "#sk-container-id-1 label.sk-toggleable__label-arrow:before {\n",
              "  /* Arrow on the left of the label */\n",
              "  content: \"▸\";\n",
              "  float: left;\n",
              "  margin-right: 0.25em;\n",
              "  color: var(--sklearn-color-icon);\n",
              "}\n",
              "\n",
              "#sk-container-id-1 label.sk-toggleable__label-arrow:hover:before {\n",
              "  color: var(--sklearn-color-text);\n",
              "}\n",
              "\n",
              "/* Toggleable content - dropdown */\n",
              "\n",
              "#sk-container-id-1 div.sk-toggleable__content {\n",
              "  max-height: 0;\n",
              "  max-width: 0;\n",
              "  overflow: hidden;\n",
              "  text-align: left;\n",
              "  /* unfitted */\n",
              "  background-color: var(--sklearn-color-unfitted-level-0);\n",
              "}\n",
              "\n",
              "#sk-container-id-1 div.sk-toggleable__content.fitted {\n",
              "  /* fitted */\n",
              "  background-color: var(--sklearn-color-fitted-level-0);\n",
              "}\n",
              "\n",
              "#sk-container-id-1 div.sk-toggleable__content pre {\n",
              "  margin: 0.2em;\n",
              "  border-radius: 0.25em;\n",
              "  color: var(--sklearn-color-text);\n",
              "  /* unfitted */\n",
              "  background-color: var(--sklearn-color-unfitted-level-0);\n",
              "}\n",
              "\n",
              "#sk-container-id-1 div.sk-toggleable__content.fitted pre {\n",
              "  /* unfitted */\n",
              "  background-color: var(--sklearn-color-fitted-level-0);\n",
              "}\n",
              "\n",
              "#sk-container-id-1 input.sk-toggleable__control:checked~div.sk-toggleable__content {\n",
              "  /* Expand drop-down */\n",
              "  max-height: 200px;\n",
              "  max-width: 100%;\n",
              "  overflow: auto;\n",
              "}\n",
              "\n",
              "#sk-container-id-1 input.sk-toggleable__control:checked~label.sk-toggleable__label-arrow:before {\n",
              "  content: \"▾\";\n",
              "}\n",
              "\n",
              "/* Pipeline/ColumnTransformer-specific style */\n",
              "\n",
              "#sk-container-id-1 div.sk-label input.sk-toggleable__control:checked~label.sk-toggleable__label {\n",
              "  color: var(--sklearn-color-text);\n",
              "  background-color: var(--sklearn-color-unfitted-level-2);\n",
              "}\n",
              "\n",
              "#sk-container-id-1 div.sk-label.fitted input.sk-toggleable__control:checked~label.sk-toggleable__label {\n",
              "  background-color: var(--sklearn-color-fitted-level-2);\n",
              "}\n",
              "\n",
              "/* Estimator-specific style */\n",
              "\n",
              "/* Colorize estimator box */\n",
              "#sk-container-id-1 div.sk-estimator input.sk-toggleable__control:checked~label.sk-toggleable__label {\n",
              "  /* unfitted */\n",
              "  background-color: var(--sklearn-color-unfitted-level-2);\n",
              "}\n",
              "\n",
              "#sk-container-id-1 div.sk-estimator.fitted input.sk-toggleable__control:checked~label.sk-toggleable__label {\n",
              "  /* fitted */\n",
              "  background-color: var(--sklearn-color-fitted-level-2);\n",
              "}\n",
              "\n",
              "#sk-container-id-1 div.sk-label label.sk-toggleable__label,\n",
              "#sk-container-id-1 div.sk-label label {\n",
              "  /* The background is the default theme color */\n",
              "  color: var(--sklearn-color-text-on-default-background);\n",
              "}\n",
              "\n",
              "/* On hover, darken the color of the background */\n",
              "#sk-container-id-1 div.sk-label:hover label.sk-toggleable__label {\n",
              "  color: var(--sklearn-color-text);\n",
              "  background-color: var(--sklearn-color-unfitted-level-2);\n",
              "}\n",
              "\n",
              "/* Label box, darken color on hover, fitted */\n",
              "#sk-container-id-1 div.sk-label.fitted:hover label.sk-toggleable__label.fitted {\n",
              "  color: var(--sklearn-color-text);\n",
              "  background-color: var(--sklearn-color-fitted-level-2);\n",
              "}\n",
              "\n",
              "/* Estimator label */\n",
              "\n",
              "#sk-container-id-1 div.sk-label label {\n",
              "  font-family: monospace;\n",
              "  font-weight: bold;\n",
              "  display: inline-block;\n",
              "  line-height: 1.2em;\n",
              "}\n",
              "\n",
              "#sk-container-id-1 div.sk-label-container {\n",
              "  text-align: center;\n",
              "}\n",
              "\n",
              "/* Estimator-specific */\n",
              "#sk-container-id-1 div.sk-estimator {\n",
              "  font-family: monospace;\n",
              "  border: 1px dotted var(--sklearn-color-border-box);\n",
              "  border-radius: 0.25em;\n",
              "  box-sizing: border-box;\n",
              "  margin-bottom: 0.5em;\n",
              "  /* unfitted */\n",
              "  background-color: var(--sklearn-color-unfitted-level-0);\n",
              "}\n",
              "\n",
              "#sk-container-id-1 div.sk-estimator.fitted {\n",
              "  /* fitted */\n",
              "  background-color: var(--sklearn-color-fitted-level-0);\n",
              "}\n",
              "\n",
              "/* on hover */\n",
              "#sk-container-id-1 div.sk-estimator:hover {\n",
              "  /* unfitted */\n",
              "  background-color: var(--sklearn-color-unfitted-level-2);\n",
              "}\n",
              "\n",
              "#sk-container-id-1 div.sk-estimator.fitted:hover {\n",
              "  /* fitted */\n",
              "  background-color: var(--sklearn-color-fitted-level-2);\n",
              "}\n",
              "\n",
              "/* Specification for estimator info (e.g. \"i\" and \"?\") */\n",
              "\n",
              "/* Common style for \"i\" and \"?\" */\n",
              "\n",
              ".sk-estimator-doc-link,\n",
              "a:link.sk-estimator-doc-link,\n",
              "a:visited.sk-estimator-doc-link {\n",
              "  float: right;\n",
              "  font-size: smaller;\n",
              "  line-height: 1em;\n",
              "  font-family: monospace;\n",
              "  background-color: var(--sklearn-color-background);\n",
              "  border-radius: 1em;\n",
              "  height: 1em;\n",
              "  width: 1em;\n",
              "  text-decoration: none !important;\n",
              "  margin-left: 1ex;\n",
              "  /* unfitted */\n",
              "  border: var(--sklearn-color-unfitted-level-1) 1pt solid;\n",
              "  color: var(--sklearn-color-unfitted-level-1);\n",
              "}\n",
              "\n",
              ".sk-estimator-doc-link.fitted,\n",
              "a:link.sk-estimator-doc-link.fitted,\n",
              "a:visited.sk-estimator-doc-link.fitted {\n",
              "  /* fitted */\n",
              "  border: var(--sklearn-color-fitted-level-1) 1pt solid;\n",
              "  color: var(--sklearn-color-fitted-level-1);\n",
              "}\n",
              "\n",
              "/* On hover */\n",
              "div.sk-estimator:hover .sk-estimator-doc-link:hover,\n",
              ".sk-estimator-doc-link:hover,\n",
              "div.sk-label-container:hover .sk-estimator-doc-link:hover,\n",
              ".sk-estimator-doc-link:hover {\n",
              "  /* unfitted */\n",
              "  background-color: var(--sklearn-color-unfitted-level-3);\n",
              "  color: var(--sklearn-color-background);\n",
              "  text-decoration: none;\n",
              "}\n",
              "\n",
              "div.sk-estimator.fitted:hover .sk-estimator-doc-link.fitted:hover,\n",
              ".sk-estimator-doc-link.fitted:hover,\n",
              "div.sk-label-container:hover .sk-estimator-doc-link.fitted:hover,\n",
              ".sk-estimator-doc-link.fitted:hover {\n",
              "  /* fitted */\n",
              "  background-color: var(--sklearn-color-fitted-level-3);\n",
              "  color: var(--sklearn-color-background);\n",
              "  text-decoration: none;\n",
              "}\n",
              "\n",
              "/* Span, style for the box shown on hovering the info icon */\n",
              ".sk-estimator-doc-link span {\n",
              "  display: none;\n",
              "  z-index: 9999;\n",
              "  position: relative;\n",
              "  font-weight: normal;\n",
              "  right: .2ex;\n",
              "  padding: .5ex;\n",
              "  margin: .5ex;\n",
              "  width: min-content;\n",
              "  min-width: 20ex;\n",
              "  max-width: 50ex;\n",
              "  color: var(--sklearn-color-text);\n",
              "  box-shadow: 2pt 2pt 4pt #999;\n",
              "  /* unfitted */\n",
              "  background: var(--sklearn-color-unfitted-level-0);\n",
              "  border: .5pt solid var(--sklearn-color-unfitted-level-3);\n",
              "}\n",
              "\n",
              ".sk-estimator-doc-link.fitted span {\n",
              "  /* fitted */\n",
              "  background: var(--sklearn-color-fitted-level-0);\n",
              "  border: var(--sklearn-color-fitted-level-3);\n",
              "}\n",
              "\n",
              ".sk-estimator-doc-link:hover span {\n",
              "  display: block;\n",
              "}\n",
              "\n",
              "/* \"?\"-specific style due to the `<a>` HTML tag */\n",
              "\n",
              "#sk-container-id-1 a.estimator_doc_link {\n",
              "  float: right;\n",
              "  font-size: 1rem;\n",
              "  line-height: 1em;\n",
              "  font-family: monospace;\n",
              "  background-color: var(--sklearn-color-background);\n",
              "  border-radius: 1rem;\n",
              "  height: 1rem;\n",
              "  width: 1rem;\n",
              "  text-decoration: none;\n",
              "  /* unfitted */\n",
              "  color: var(--sklearn-color-unfitted-level-1);\n",
              "  border: var(--sklearn-color-unfitted-level-1) 1pt solid;\n",
              "}\n",
              "\n",
              "#sk-container-id-1 a.estimator_doc_link.fitted {\n",
              "  /* fitted */\n",
              "  border: var(--sklearn-color-fitted-level-1) 1pt solid;\n",
              "  color: var(--sklearn-color-fitted-level-1);\n",
              "}\n",
              "\n",
              "/* On hover */\n",
              "#sk-container-id-1 a.estimator_doc_link:hover {\n",
              "  /* unfitted */\n",
              "  background-color: var(--sklearn-color-unfitted-level-3);\n",
              "  color: var(--sklearn-color-background);\n",
              "  text-decoration: none;\n",
              "}\n",
              "\n",
              "#sk-container-id-1 a.estimator_doc_link.fitted:hover {\n",
              "  /* fitted */\n",
              "  background-color: var(--sklearn-color-fitted-level-3);\n",
              "}\n",
              "</style><div id=\"sk-container-id-1\" class=\"sk-top-container\"><div class=\"sk-text-repr-fallback\"><pre>MultinomialNB()</pre><b>In a Jupyter environment, please rerun this cell to show the HTML representation or trust the notebook. <br />On GitHub, the HTML representation is unable to render, please try loading this page with nbviewer.org.</b></div><div class=\"sk-container\" hidden><div class=\"sk-item\"><div class=\"sk-estimator fitted sk-toggleable\"><input class=\"sk-toggleable__control sk-hidden--visually\" id=\"sk-estimator-id-1\" type=\"checkbox\" checked><label for=\"sk-estimator-id-1\" class=\"sk-toggleable__label fitted sk-toggleable__label-arrow fitted\">&nbsp;&nbsp;MultinomialNB<a class=\"sk-estimator-doc-link fitted\" rel=\"noreferrer\" target=\"_blank\" href=\"https://scikit-learn.org/1.4/modules/generated/sklearn.naive_bayes.MultinomialNB.html\">?<span>Documentation for MultinomialNB</span></a><span class=\"sk-estimator-doc-link fitted\">i<span>Fitted</span></span></label><div class=\"sk-toggleable__content fitted\"><pre>MultinomialNB()</pre></div> </div></div></div></div>"
            ],
            "text/plain": [
              "MultinomialNB()"
            ]
          },
          "execution_count": 38,
          "metadata": {},
          "output_type": "execute_result"
        }
      ],
      "source": [
        "NB_classifier = MultinomialNB()\n",
        "NB_classifier.fit(x_train, y_train)"
      ]
    },
    {
      "cell_type": "markdown",
      "id": "3ee8fa94-96e3-43f7-94fc-7bfe514c58e8",
      "metadata": {
        "id": "3ee8fa94-96e3-43f7-94fc-7bfe514c58e8"
      },
      "source": [
        "# 07: Access The model Performance Using Confusion Matrix"
      ]
    },
    {
      "cell_type": "code",
      "execution_count": null,
      "id": "8cfc1388-dfb5-431f-882e-97c534c2701a",
      "metadata": {
        "id": "8cfc1388-dfb5-431f-882e-97c534c2701a"
      },
      "outputs": [],
      "source": [
        "from sklearn.metrics import classification_report\n",
        "from sklearn.metrics import confusion_matrix"
      ]
    },
    {
      "cell_type": "code",
      "execution_count": null,
      "id": "492cbcd5-955c-4827-a206-918e81ca48ac",
      "metadata": {
        "id": "492cbcd5-955c-4827-a206-918e81ca48ac",
        "outputId": "2f8669db-a6ab-48ce-a9b2-e12ce7bef058"
      },
      "outputs": [
        {
          "data": {
            "text/plain": [
              "array([1, 1, 1, ..., 1, 1, 1], dtype=int64)"
            ]
          },
          "execution_count": 40,
          "metadata": {},
          "output_type": "execute_result"
        }
      ],
      "source": [
        "#Predicting the test data\n",
        "y_predict = NB_classifier.predict(x_test)\n",
        "y_predict"
      ]
    },
    {
      "cell_type": "code",
      "execution_count": null,
      "id": "730d4078-766b-45ee-bee5-55c328177623",
      "metadata": {
        "id": "730d4078-766b-45ee-bee5-55c328177623",
        "outputId": "341bbfe8-f10a-4192-e6d6-47c5f4359a50"
      },
      "outputs": [
        {
          "data": {
            "text/plain": [
              "array([1, 1, 1, 1, 1, 1, 1, 1, 0, 1, 1, 1, 1, 1, 1, 1, 1, 1, 1, 0, 1, 0,\n",
              "       1, 1, 1, 1, 1, 1, 1, 1, 1, 1, 1, 1, 0, 1, 1, 1, 1, 1, 1, 0, 1, 0,\n",
              "       0, 0, 1, 1, 0, 1, 1, 1, 1, 1, 0, 1, 1, 1, 0, 1, 1, 1, 1, 0, 1, 1,\n",
              "       0, 1, 1, 1, 0, 1, 1, 1, 0, 1, 0, 1, 0, 1, 1, 1, 1, 1, 1, 1, 1, 1,\n",
              "       1, 0, 1, 1, 1, 0, 1, 1, 1, 1, 1, 0], dtype=int64)"
            ]
          },
          "execution_count": 41,
          "metadata": {},
          "output_type": "execute_result"
        }
      ],
      "source": [
        "#Predicting the test data set result\n",
        "y_predict_test = NB_classifier.predict(x_test[0:100])\n",
        "y_predict_test"
      ]
    },
    {
      "cell_type": "markdown",
      "id": "ccf27c3d-f8ce-44fd-b93f-c2d0b071a9a1",
      "metadata": {
        "id": "ccf27c3d-f8ce-44fd-b93f-c2d0b071a9a1"
      },
      "source": [
        "# 08: Confusion Matrix"
      ]
    },
    {
      "cell_type": "code",
      "execution_count": null,
      "id": "600933af-b211-4023-8596-cabdd454e111",
      "metadata": {
        "id": "600933af-b211-4023-8596-cabdd454e111",
        "outputId": "37b3899c-01b6-45ba-e463-bc8681b4e241"
      },
      "outputs": [
        {
          "name": "stdout",
          "output_type": "stream",
          "text": [
            "The Confusion Matrix is : \n",
            "[[ 808  337]\n",
            " [ 249 3605]]\n"
          ]
        }
      ],
      "source": [
        "cm = confusion_matrix(y_test, y_predict)\n",
        "print(f'The Confusion Matrix is : ')\n",
        "print(cm)\n"
      ]
    },
    {
      "cell_type": "markdown",
      "id": "e69505b1-a21a-4406-9616-65fb0850cff7",
      "metadata": {
        "id": "e69505b1-a21a-4406-9616-65fb0850cff7"
      },
      "source": [
        "* True Positive(TP) = 808\n",
        "* True Negative(TN) = 3605\n",
        "* False Positive(FP) = 337\n",
        "* False Negative(FN) = 249\n",
        "\n"
      ]
    },
    {
      "cell_type": "markdown",
      "id": "7c34662d-5fcd-422f-9928-26a05b13e42a",
      "metadata": {
        "id": "7c34662d-5fcd-422f-9928-26a05b13e42a"
      },
      "source": [
        "* The Confusion Matrix Shows 808+3605 = 4413 **Correct Prediction.**\n",
        "* 337 + 249 = 586 is a **Incorrect Prediction.**"
      ]
    },
    {
      "cell_type": "code",
      "execution_count": null,
      "id": "6bc458f3-1a68-4137-852a-34566335dc73",
      "metadata": {
        "id": "6bc458f3-1a68-4137-852a-34566335dc73",
        "outputId": "d61f785f-0136-4038-d176-81f6a856c828"
      },
      "outputs": [
        {
          "name": "stdout",
          "output_type": "stream",
          "text": [
            "The Accuracy is :88.28%\n"
          ]
        }
      ],
      "source": [
        "from sklearn.metrics import accuracy_score\n",
        "accuracy = accuracy_score(y_test, y_predict)\n",
        "print(f'The Accuracy is :{accuracy*100:.2f}%')"
      ]
    },
    {
      "cell_type": "code",
      "execution_count": null,
      "id": "b9d86eca-e762-4aba-bf60-8cff95fa7e72",
      "metadata": {
        "id": "b9d86eca-e762-4aba-bf60-8cff95fa7e72",
        "outputId": "2d8b0355-53f5-4b45-ef83-54b56e13fda7"
      },
      "outputs": [
        {
          "data": {
            "text/plain": [
              "88.27765553110622"
            ]
          },
          "execution_count": 44,
          "metadata": {},
          "output_type": "execute_result"
        }
      ],
      "source": [
        "((808 + 3605) / (808 + 337 + 249 + 3605)) * 100"
      ]
    },
    {
      "cell_type": "code",
      "execution_count": null,
      "id": "64dac1b2-9325-43c2-9335-e53f84988f4e",
      "metadata": {
        "id": "64dac1b2-9325-43c2-9335-e53f84988f4e",
        "outputId": "939e0adc-3c2c-4fcf-f7eb-da75ea7029e3"
      },
      "outputs": [
        {
          "data": {
            "text/html": [
              "<div>\n",
              "<style scoped>\n",
              "    .dataframe tbody tr th:only-of-type {\n",
              "        vertical-align: middle;\n",
              "    }\n",
              "\n",
              "    .dataframe tbody tr th {\n",
              "        vertical-align: top;\n",
              "    }\n",
              "\n",
              "    .dataframe thead th {\n",
              "        text-align: right;\n",
              "    }\n",
              "</style>\n",
              "<table border=\"1\" class=\"dataframe\">\n",
              "  <thead>\n",
              "    <tr style=\"text-align: right;\">\n",
              "      <th></th>\n",
              "      <th>Actual Positive : 1</th>\n",
              "      <th>Actual Negative : 0</th>\n",
              "    </tr>\n",
              "  </thead>\n",
              "  <tbody>\n",
              "    <tr>\n",
              "      <th>Predict Positive : 1</th>\n",
              "      <td>808</td>\n",
              "      <td>337</td>\n",
              "    </tr>\n",
              "    <tr>\n",
              "      <th>Predict Negative : 0</th>\n",
              "      <td>249</td>\n",
              "      <td>3605</td>\n",
              "    </tr>\n",
              "  </tbody>\n",
              "</table>\n",
              "</div>"
            ],
            "text/plain": [
              "                      Actual Positive : 1  Actual Negative : 0\n",
              "Predict Positive : 1                  808                  337\n",
              "Predict Negative : 0                  249                 3605"
            ]
          },
          "execution_count": 45,
          "metadata": {},
          "output_type": "execute_result"
        }
      ],
      "source": [
        "cm_mat = pd.DataFrame(\n",
        "    data=cm,\n",
        "    columns=[\n",
        "        'Actual Positive : 1',\n",
        "        'Actual Negative : 0'\n",
        "    ],\n",
        "    index=[\n",
        "        'Predict Positive : 1',\n",
        "        'Predict Negative : 0'\n",
        "    ])\n",
        "cm_mat"
      ]
    },
    {
      "cell_type": "code",
      "execution_count": null,
      "id": "e77f96e1-c875-479b-8f14-00d1378fb822",
      "metadata": {
        "id": "e77f96e1-c875-479b-8f14-00d1378fb822",
        "outputId": "0a9001fe-9ff9-4505-ab82-2acadf78cbcc"
      },
      "outputs": [
        {
          "data": {
            "image/png": "[encoded data removed]",
            "text/plain": [
              "<Figure size 640x480 with 2 Axes>"
            ]
          },
          "metadata": {},
          "output_type": "display_data"
        }
      ],
      "source": [
        "sns.heatmap(data=cm_mat, annot=True, linewidths=0.5, fmt='d')\n",
        "plt.show()"
      ]
    },
    {
      "cell_type": "markdown",
      "id": "98f7a78c-1b55-4882-9994-a37fc52c89cd",
      "metadata": {
        "id": "98f7a78c-1b55-4882-9994-a37fc52c89cd"
      },
      "source": [
        "# 09: Classification Report"
      ]
    },
    {
      "cell_type": "code",
      "execution_count": null,
      "id": "462562d8-ebcd-41d7-96d7-3c1e836b91a4",
      "metadata": {
        "id": "462562d8-ebcd-41d7-96d7-3c1e836b91a4",
        "outputId": "b23a4008-7756-44b3-91b8-29826cd1e62b"
      },
      "outputs": [
        {
          "name": "stdout",
          "output_type": "stream",
          "text": [
            "              precision    recall  f1-score   support\n",
            "\n",
            "           0       0.76      0.71      0.73      1145\n",
            "           1       0.91      0.94      0.92      3854\n",
            "\n",
            "    accuracy                           0.88      4999\n",
            "   macro avg       0.84      0.82      0.83      4999\n",
            "weighted avg       0.88      0.88      0.88      4999\n",
            "\n"
          ]
        }
      ],
      "source": [
        "print(classification_report(y_test, y_predict))"
      ]
    }
  ],
  "metadata": {
    "kernelspec": {
      "display_name": "Python 3 (ipykernel)",
      "language": "python",
      "name": "python3"
    },
    "language_info": {
      "codemirror_mode": {
        "name": "ipython",
        "version": 3
      },
      "file_extension": ".py",
      "mimetype": "text/x-python",
      "name": "python",
      "nbconvert_exporter": "python",
      "pygments_lexer": "ipython3",
      "version": "3.12.0"
    },
    "colab": {
      "provenance": [],
      "include_colab_link": true
    }
  },
  "nbformat": 4,
  "nbformat_minor": 5
}